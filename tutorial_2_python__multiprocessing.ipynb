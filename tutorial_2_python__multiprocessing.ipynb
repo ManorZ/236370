{
 "cells": [
  {
   "cell_type": "markdown",
   "metadata": {
    "colab_type": "text",
    "id": "12kv2KDiNe8t"
   },
   "source": [
    "# CDP - 236370\n",
    "## Tutorial 2 - Python Multiprocessing \n",
    "Written by Ido Hakimi, Qasem Sayah, and Anny Firer.\n",
    "<br>\n",
    "Adapted from `PyMOTW-3` (https://pymotw.com/3/multiprocessing/index.html)\n",
    "<br>\n",
    "Documentation: https://docs.python.org/3/library/multiprocessing.html"
   ]
  },
  {
   "cell_type": "markdown",
   "metadata": {
    "colab_type": "text",
    "id": "wF5v2HrkOJ2Y"
   },
   "source": [
    "### Processes vs Threads:\n",
    "\n",
    "**Process**\n",
    "* Created by the operating system to run programs.\n",
    "* Processes can have multiple threads.\n",
    "* Two processes can execute code simultaneously in the same python program.\n",
    "* Processes have more overhead than threads as opening and closing processes takes more time.\n",
    "* Sharing information between processes is slower than sharing between threads as processes do not share memory space. In python they share information by pickling data structures like arrays which requires IO time.\n",
    "\n",
    "**Thread**\n",
    "* Threads are like mini-processes that live inside a process.\n",
    "* They share memory space and efficiently read and write to the same variables.\n",
    "* Two threads cannot execute code simultaneously in the same python program (although there are workarounds*)."
   ]
  },
  {
   "cell_type": "markdown",
   "metadata": {
    "colab_type": "text",
    "id": "sPNJxw3Nj_eP"
   },
   "source": [
    "### Python’s GIL problem\n",
    "\n",
    "\n",
    " CPython (the standard python implementation) has something called the GIL (Global Interpreter Lock), which prevent two threads from executing simultaneously in the same program. Some people are upset by this, while others fiercely defend it. There are workarounds, however, and libraries like Numpy bypass this limitation by running external code in C.\n",
    "\n",
    "*   Processes speed up Python operations that are CPU intensive because they benefit from multiple cores and avoid the GIL.\n",
    "*   Threads provide no benefit in python for CPU intensive tasks because of the GIL.\n",
    "\n"
   ]
  },
  {
   "cell_type": "markdown",
   "metadata": {
    "colab_type": "text",
    "id": "hQlv3w6PmNmt"
   },
   "source": [
    "### The Process class\n",
    "\n",
    "In multiprocessing, processes are spawned by creating a Process object and then calling its start() method. To wait until a process has completed its work and exited, use the join() method."
   ]
  },
  {
   "cell_type": "code",
   "execution_count": null,
   "metadata": {
    "colab": {
     "base_uri": "https://localhost:8080/",
     "height": 170
    },
    "colab_type": "code",
    "id": "WtgR4TQYmM17",
    "outputId": "74962915-5b76-42c0-8cd3-34933b6e4bdd"
   },
   "outputs": [],
   "source": [
    "from multiprocessing import Process\n",
    "import os\n",
    "\n",
    "def info(title):\n",
    "    print(title)\n",
    "    print('module name:', __name__)\n",
    "    print('parent process:', os.getppid())\n",
    "    print('process id:', os.getpid())\n",
    "\n",
    "def f(name):\n",
    "    info('function f')\n",
    "    print('hello', name)\n",
    "\n",
    "if __name__ == '__main__':\n",
    "    info('main line')\n",
    "    p = Process(target=f, args=('hello',))\n",
    "    p.start()\n",
    "    p.join()"
   ]
  },
  {
   "cell_type": "markdown",
   "metadata": {
    "colab_type": "text",
    "id": "ycriYevi3R7P"
   },
   "source": [
    "Spawning multiple processes."
   ]
  },
  {
   "cell_type": "code",
   "execution_count": null,
   "metadata": {
    "colab": {
     "base_uri": "https://localhost:8080/",
     "height": 187
    },
    "colab_type": "code",
    "id": "PAaXScsO3CZ4",
    "outputId": "8686b752-6338-48ca-8c59-ec7cbe61c854"
   },
   "outputs": [],
   "source": [
    "import multiprocessing\n",
    "\n",
    "\n",
    "def worker(num):\n",
    "    print('Worker:', num)\n",
    "\n",
    "\n",
    "if __name__ == '__main__':\n",
    "    jobs = []\n",
    "    for i in range(10):\n",
    "        p = multiprocessing.Process(target=worker, args=(i,))\n",
    "        jobs.append(p)\n",
    "        p.start()\n",
    "        \n",
    "    for j in jobs:\n",
    "      j.join()"
   ]
  },
  {
   "cell_type": "markdown",
   "metadata": {
    "colab_type": "text",
    "id": "icHkWcOX3rWe"
   },
   "source": [
    "#### Determining the Current Process\n",
    "\n",
    "Passing arguments to identify or name the process is cumbersome, and unnecessary. Each Process instance has a name with a default value that can be changed as the process is created. Naming processes is useful for keeping track of them, especially in applications with multiple types of processes running simultaneously."
   ]
  },
  {
   "cell_type": "code",
   "execution_count": null,
   "metadata": {
    "colab": {
     "base_uri": "https://localhost:8080/",
     "height": 119
    },
    "colab_type": "code",
    "id": "ys3984ON361d",
    "outputId": "ad4efb3b-e34e-4262-c165-11dd268e5ebc"
   },
   "outputs": [],
   "source": [
    "import multiprocessing\n",
    "import time\n",
    "\n",
    "\n",
    "def worker():\n",
    "    name = multiprocessing.current_process().name\n",
    "    print(name, 'Starting')\n",
    "    time.sleep(2)\n",
    "    print(name, 'Exiting')\n",
    "\n",
    "\n",
    "def my_service():\n",
    "    name = multiprocessing.current_process().name\n",
    "    print(name, 'Starting')\n",
    "    time.sleep(3)\n",
    "    print(name, 'Exiting')\n",
    "    return 2\n",
    "\n",
    "\n",
    "if __name__ == '__main__':\n",
    "    service = multiprocessing.Process(\n",
    "        name='my_service',\n",
    "        target=my_service,\n",
    "    )\n",
    "    worker_1 = multiprocessing.Process(\n",
    "        name='worker 1',\n",
    "        target=worker,\n",
    "    )\n",
    "    worker_2 = multiprocessing.Process(  # default name\n",
    "        target=worker,\n",
    "    )\n",
    "\n",
    "    worker_1.start()\n",
    "    worker_2.start()\n",
    "    service.start()\n",
    "    \n",
    "    worker_1.join()\n",
    "    worker_2.join()\n",
    "    service.join()"
   ]
  },
  {
   "cell_type": "markdown",
   "metadata": {
    "colab_type": "text",
    "id": "6JU4w2mC5dsx"
   },
   "source": [
    "#### Terminating Processes\n",
    "\n",
    "If a process appears hung or deadlocked it can be useful to be able to kill it forcibly. Calling `terminate()` on a process object kills the child process. It is important to join() the process after terminating it in order to give the process management code time to update the status of the object to reflect the termination."
   ]
  },
  {
   "cell_type": "code",
   "execution_count": null,
   "metadata": {
    "colab": {
     "base_uri": "https://localhost:8080/",
     "height": 85
    },
    "colab_type": "code",
    "id": "og7V6iXd5cb_",
    "outputId": "8551e7b0-2b91-4425-9d1a-faab2d49c91e"
   },
   "outputs": [],
   "source": [
    "import multiprocessing\n",
    "import time\n",
    "\n",
    "\n",
    "def slow_worker():\n",
    "    print('Starting worker')\n",
    "    time.sleep(0.1)\n",
    "    print('Finished worker')\n",
    "\n",
    "\n",
    "if __name__ == '__main__':\n",
    "    p = multiprocessing.Process(target=slow_worker)\n",
    "    print('BEFORE:', p, p.is_alive())\n",
    "\n",
    "    p.start()\n",
    "    print('DURING:', p, p.is_alive())\n",
    "\n",
    "    p.terminate()\n",
    "    print('TERMINATED:', p, p.is_alive())\n",
    "\n",
    "    p.join()\n",
    "    print('JOINED:', p, p.is_alive())"
   ]
  },
  {
   "cell_type": "markdown",
   "metadata": {
    "colab_type": "text",
    "id": "Pt7yCCiP1DMF"
   },
   "source": [
    "#### Synchronization between processes\n",
    "`multiprocessing` contains equivalents of all the synchronization primitives from threading. For instance one can use a lock to ensure that only one process prints to standard output at a time:"
   ]
  },
  {
   "cell_type": "code",
   "execution_count": null,
   "metadata": {
    "colab": {
     "base_uri": "https://localhost:8080/",
     "height": 187
    },
    "colab_type": "code",
    "id": "G_efWZL11P2y",
    "outputId": "c5b4728c-d656-4069-f614-d931788f96c1"
   },
   "outputs": [],
   "source": [
    "from multiprocessing import Process, Lock\n",
    "\n",
    "def f(l, i):\n",
    "    l.acquire()\n",
    "    try:\n",
    "        print('hello world', i)\n",
    "    finally:\n",
    "        l.release()\n",
    "\n",
    "if __name__ == '__main__':\n",
    "    lock = Lock()\n",
    "    for num in range(10):\n",
    "        Process(target=f, args=(lock, num)).start()"
   ]
  },
  {
   "cell_type": "markdown",
   "metadata": {
    "colab_type": "text",
    "id": "DuTOg3hmmlFj"
   },
   "source": [
    "### Exchanging objects between processes\n",
    "\n",
    "Unlike threads, processes, communicate over interprocess communication channel. Multiprocessing supports two types of communication channel between processes:\n",
    "\n",
    "1.   Queues\n",
    "2.   Pipes"
   ]
  },
  {
   "cell_type": "markdown",
   "metadata": {
    "colab_type": "text",
    "id": "dPhhTocLnLxt"
   },
   "source": [
    "#### Queues\n",
    "\n",
    "The `Queue` class is a near clone of `Queue.Queue`.\n",
    "Queues are thread and process safe."
   ]
  },
  {
   "cell_type": "code",
   "execution_count": null,
   "metadata": {
    "colab": {
     "base_uri": "https://localhost:8080/",
     "height": 34
    },
    "colab_type": "code",
    "id": "kQU2tr3wnGtO",
    "outputId": "e5439662-d4b9-46e4-f8dd-18e93326875c"
   },
   "outputs": [],
   "source": [
    "from multiprocessing import Process, Queue\n",
    "\n",
    "def f(q):\n",
    "    q.put([42, None, 'hello'])\n",
    "    \n",
    "if __name__ == '__main__':\n",
    "    q = Queue()\n",
    "    p = Process(target=f, args=(q,))\n",
    "    p.start()\n",
    "    p.join() #join on Proccess p\n",
    "    print(q.get())"
   ]
  },
  {
   "cell_type": "markdown",
   "metadata": {
    "colab_type": "text",
    "id": "OM--2HgnM6K5"
   },
   "source": [
    "The `JoinableQueue` class, a Queue subclass, is a queue which additionally has `task_done()` and `join()` methods:\n",
    " * `join()` Blocks until all items in the queue have been gotten and processed.\n",
    " * `task_done()` should be called for each task removed from the queue or else the semaphore used to count the number of unfinished tasks may eventually overflow, raising an exception."
   ]
  },
  {
   "cell_type": "code",
   "execution_count": null,
   "metadata": {
    "colab": {
     "base_uri": "https://localhost:8080/",
     "height": 34
    },
    "colab_type": "code",
    "id": "BQLynkp4NBS2",
    "outputId": "078bcded-8c7f-4609-d762-ea0c71e5ce37"
   },
   "outputs": [],
   "source": [
    "from multiprocessing import Process, JoinableQueue\n",
    "import time\n",
    "n_subscribers = 100\n",
    "\n",
    "class Subscriber:\n",
    "    def send(self, message):\n",
    "        time.sleep(0.01) #time it takes for the subscriber to get the message\n",
    "        return 0\n",
    "\n",
    "def publisher(q, message):\n",
    "    subscribers = []\n",
    "    for _ in range(n_subscribers):\n",
    "        subscribers.append(q.get())\n",
    "\n",
    "    for sub in subscribers:\n",
    "        if sub.send(message) != 0:\n",
    "            pass  # do something\n",
    "        else:\n",
    "            q.task_done()\n",
    "\n",
    "\n",
    "if __name__ == '__main__':\n",
    "    message = \"Hello world!\"  # some message to send to all subscribers\n",
    "    subscribers = [Subscriber() for _ in range(n_subscribers)]  # list of subscribers\n",
    "\n",
    "    q = JoinableQueue()\n",
    "    print(\"Begin broadcasting message\")\n",
    "    for sub in subscribers:\n",
    "        q.put(sub)\n",
    "\n",
    "    p = Process(target=publisher, args=(q, message))\n",
    "    p.start()\n",
    "\n",
    "    q.join()  # join on JoinableQueue q\n",
    "    print(\"All subscribers received the message\")"
   ]
  },
  {
   "cell_type": "markdown",
   "metadata": {
    "colab_type": "text",
    "id": "nN_zCOw4nnPx"
   },
   "source": [
    "#### Pipes\n",
    "\n",
    "A pipe can have only two endpoints. Hence, it is preferred over queue when only two-way communication is required. The `Pipe()` function returns a pair of connection objects connected by a pipe which by default is duplex (two-way).\n",
    "\n",
    "Data in a pipe may become corrupted if two processes (or threads) try to read from or write to the same end of the pipe at the same time. Of course there is no risk of corruption from processes using different ends of the pipe at the same time. Also note that, Queues do proper synchronization between processes, at the expense of more complexity. Hence, queues are said to be thread and process safe."
   ]
  },
  {
   "cell_type": "code",
   "execution_count": null,
   "metadata": {
    "colab": {
     "base_uri": "https://localhost:8080/",
     "height": 34
    },
    "colab_type": "code",
    "id": "uo55Mw9yn0j3",
    "outputId": "dbd2f08c-4806-4c43-9e38-180f4347d089"
   },
   "outputs": [],
   "source": [
    "from multiprocessing import Process, Pipe\n",
    "import time\n",
    "\n",
    "def f(conn):\n",
    "    conn.send([42, None, 'hello'])\n",
    "    conn.close()\n",
    "\n",
    "if __name__ == '__main__':\n",
    "    parent_conn, child_conn = Pipe()\n",
    "    p = Process(target=f, args=(child_conn,))\n",
    "    p.start()\n",
    "    print(parent_conn.recv())\n",
    "    p.join()"
   ]
  },
  {
   "cell_type": "markdown",
   "metadata": {
    "colab_type": "text",
    "id": "yRCHAOXlqRwy"
   },
   "source": [
    "### Performance Benchmarking Pipes vs Queues \n",
    "#### Pipes"
   ]
  },
  {
   "cell_type": "code",
   "execution_count": null,
   "metadata": {
    "colab": {
     "base_uri": "https://localhost:8080/",
     "height": 68
    },
    "colab_type": "code",
    "id": "R_zw5ADUmx_8",
    "outputId": "9c23be17-8e15-4ce5-d1ad-a314eee457a7"
   },
   "outputs": [],
   "source": [
    "### Performance Benchmarking Pipes vs Queues \n",
    "#### Queuesfrom multiprocessing import Process, Pipe\n",
    "import time\n",
    "\n",
    "def reader_pipe(conn):\n",
    "    while True:\n",
    "        msg = conn.recv()    # Read from the output pipe and do nothing\n",
    "        if msg=='DONE':\n",
    "            break\n",
    "    conn.close()\n",
    "\n",
    "def writer_pipe(count, conn):\n",
    "    for i in range(count):\n",
    "        conn.send(i)             # Write 'count' numbers into the input pipe\n",
    "    conn.send('DONE')\n",
    "    conn.close()\n",
    "\n",
    "if __name__=='__main__':\n",
    "    for count in [10**4, 10**5, 10**6]:\n",
    "        # Pipes are unidirectional with two endpoints:  p_input ------> p_output\n",
    "        p_w, p_r = Pipe()  # writer() writes to p_input from _this_ process\n",
    "        reader_p = Process(target=reader_pipe, args=(p_r,))\n",
    "        reader_p.start()     # Launch the reader process\n",
    "\n",
    "        s = time.time()\n",
    "        writer_pipe(count, p_w) # Send a lot of stuff to reader_proc()\n",
    "        reader_p.join()\n",
    "        e = time.time()\n",
    "        print(\"Sending {0} numbers to Pipe() took {1} seconds\".format(count, e-s))"
   ]
  },
  {
   "cell_type": "markdown",
   "metadata": {
    "colab_type": "text",
    "id": "yRCHAOXlqRwy"
   },
   "source": [
    "#### Queues"
   ]
  },
  {
   "cell_type": "code",
   "execution_count": null,
   "metadata": {
    "colab": {
     "base_uri": "https://localhost:8080/",
     "height": 68
    },
    "colab_type": "code",
    "id": "Tne4VKHYpN5R",
    "outputId": "6c38bedc-08d1-4606-faff-5bf84036cdb7"
   },
   "outputs": [],
   "source": [
    "from multiprocessing import Process, Queue\n",
    "import time\n",
    "\n",
    "def reader_queue(q):\n",
    "    while True:\n",
    "        msg = q.get()     # Read from the output pipe and do nothing\n",
    "        if msg=='DONE':\n",
    "            break\n",
    "\n",
    "def writer_quque(count, q):\n",
    "    for i in range(count):\n",
    "        q.put(i)\n",
    "    q.put('DONE')\n",
    "\n",
    "if __name__=='__main__':\n",
    "    for count in [10**4, 10**5, 10**6]:\n",
    "        q = Queue()\n",
    "        reader_p = Process(target=reader_queue, args=(q,))\n",
    "        reader_p.start()     # Launch the reader process\n",
    "\n",
    "        s = time.time()\n",
    "        writer_quque(count, q) # Send a lot of stuff to reader_proc()\n",
    "        reader_p.join()\n",
    "        e = time.time()\n",
    "        print(\"Sending {0} numbers to Queue() took {1} seconds\".format(count, e-s))"
   ]
  },
  {
   "cell_type": "markdown",
   "metadata": {
    "colab_type": "text",
    "id": "K6mjFPR-n5Px"
   },
   "source": [
    "### Process Pools\n",
    "The Pool class can be used to manage a fixed number of workers for simple cases where the work to be done can be broken up and distributed between workers independently. The return values from the jobs are collected and returned as a list. The pool arguments include the number of processes and a function to run when starting the task process (invoked once per child)."
   ]
  },
  {
   "cell_type": "code",
   "execution_count": null,
   "metadata": {
    "colab": {
     "base_uri": "https://localhost:8080/",
     "height": 136
    },
    "colab_type": "code",
    "id": "SWmgZntlQblw",
    "outputId": "6e3a7c15-c3d0-47de-bc6c-5ad217915701"
   },
   "outputs": [],
   "source": [
    "import multiprocessing\n",
    "import time\n",
    "\n",
    "\n",
    "def do_calculation(data):\n",
    "    return data * 2\n",
    "\n",
    "def do_square(data):\n",
    "    return data * data\n",
    "\n",
    "def start_process():\n",
    "    print('Starting', multiprocessing.current_process().name)\n",
    "\n",
    "\n",
    "if __name__ == '__main__':\n",
    "    inputs = list(range(10))\n",
    "    print('Input   :', inputs)\n",
    "    print('cpu_count:',multiprocessing.cpu_count())\n",
    "    pool_size = multiprocessing.cpu_count() * 2\n",
    "    pool = multiprocessing.Pool(\n",
    "        processes=pool_size,\n",
    "        initializer=start_process,\n",
    "    )\n",
    "    pool_outputs1 = pool.map(do_calculation, inputs)\n",
    "    pool_outputs2 = pool.map(do_square, inputs)\n",
    "    pool.close()  # no more tasks\n",
    "    pool.join()  # wrap up current tasks\n",
    "    print('Pool do_calculation:', pool_outputs1)\n",
    "    print('Pool do_square:', pool_outputs2)"
   ]
  },
  {
   "cell_type": "markdown",
   "metadata": {
    "colab_type": "text",
    "id": "EwFZuvVsQo_s"
   },
   "source": [
    "### Consumers-Producer Example\n",
    "A more complex example shows how to manage several workers consuming data from a `JoinableQueue` and passing results back to the parent process. The poison pill technique is used to stop the workers. After setting up the real tasks, the main program adds one “stop” value per worker to the job queue. When a worker encounters the special value, it breaks out of its processing loop. The main process uses the task queue’s join() method to wait for all of the tasks to finish before processing the results."
   ]
  },
  {
   "cell_type": "markdown",
   "metadata": {
    "colab_type": "text",
    "id": "nSlHNhEjVqFb"
   },
   "source": [
    "#### Consumer"
   ]
  },
  {
   "cell_type": "code",
   "execution_count": null,
   "metadata": {
    "colab": {},
    "colab_type": "code",
    "id": "bLvd21aUOroO"
   },
   "outputs": [],
   "source": [
    "import multiprocessing\n",
    "import time\n",
    "\n",
    "\n",
    "class Consumer(multiprocessing.Process):\n",
    "\n",
    "    def __init__(self, task_queue, result_queue):\n",
    "        multiprocessing.Process.__init__(self)\n",
    "        self.task_queue = task_queue\n",
    "        self.result_queue = result_queue\n",
    "\n",
    "    def run(self):\n",
    "        proc_name = self.name\n",
    "        while True:\n",
    "            next_task = self.task_queue.get()\n",
    "            if next_task is None:\n",
    "                # Poison pill means shutdown\n",
    "                print('{}: Exiting'.format(proc_name))\n",
    "                self.task_queue.task_done()\n",
    "                break\n",
    "            print('{}: {}'.format(proc_name, next_task))\n",
    "            answer = next_task()\n",
    "            self.task_queue.task_done()\n",
    "            self.result_queue.put(answer)\n"
   ]
  },
  {
   "cell_type": "markdown",
   "metadata": {
    "colab_type": "text",
    "id": "MAy5FOWmVtof"
   },
   "source": [
    "#### Task"
   ]
  },
  {
   "cell_type": "code",
   "execution_count": null,
   "metadata": {
    "colab": {},
    "colab_type": "code",
    "id": "B1AF2492Oy71"
   },
   "outputs": [],
   "source": [
    "class Task:\n",
    "\n",
    "    def __init__(self, a, b):\n",
    "        self.a = a\n",
    "        self.b = b\n",
    "\n",
    "    def __call__(self):\n",
    "        time.sleep(0.1)  # pretend to take time to do the work\n",
    "        return '{self.a} * {self.b} = {product}'.format(\n",
    "            self=self, product=self.a * self.b)\n",
    "\n",
    "    def __str__(self):\n",
    "        return '{self.a} * {self.b}'.format(self=self)\n",
    "\n"
   ]
  },
  {
   "cell_type": "markdown",
   "metadata": {
    "colab_type": "text",
    "id": "ssYArh2JWNb-"
   },
   "source": [
    "#### Producer-consumers"
   ]
  },
  {
   "cell_type": "code",
   "execution_count": null,
   "metadata": {
    "colab": {
     "base_uri": "https://localhost:8080/",
     "height": 442
    },
    "colab_type": "code",
    "id": "KB0gwPNecgE8",
    "outputId": "8e29f1ea-dab6-4e1e-93fb-a19318357641"
   },
   "outputs": [],
   "source": [
    "# multiprocessing_producer_consumer.py\n",
    "\n",
    "if __name__ == '__main__':\n",
    "    # Establish communication queues\n",
    "    tasks = multiprocessing.JoinableQueue()\n",
    "    results = multiprocessing.Queue()\n",
    "\n",
    "    # Start consumers\n",
    "    num_consumers = multiprocessing.cpu_count() * 2\n",
    "    print('Creating {} consumers'.format(num_consumers))\n",
    "    consumers = [ Consumer(tasks, results) for i in range(num_consumers) ]\n",
    "    for w in consumers:\n",
    "        w.start()\n",
    "\n",
    "    # Enqueue jobs\n",
    "    num_jobs = 10\n",
    "    for i in range(num_jobs):\n",
    "        tasks.put(Task(i, i))\n",
    "\n",
    "    # Add a poison pill for each consumer\n",
    "    for i in range(num_consumers):\n",
    "        tasks.put(None)\n",
    "\n",
    "    # Wait for all of the tasks to finish\n",
    "    tasks.join()\n",
    "\n",
    "    # Start printing results\n",
    "    while num_jobs:\n",
    "        result = results.get()\n",
    "        print('Result:', result)\n",
    "        num_jobs -= 1"
   ]
  }
 ],
 "metadata": {
  "colab": {
   "name": "tut3.ipynb",
   "provenance": [],
   "toc_visible": true,
   "version": "0.3.2"
  },
  "kernelspec": {
   "display_name": "Python 3",
   "language": "python",
   "name": "python3"
  },
  "language_info": {
   "codemirror_mode": {
    "name": "ipython",
    "version": 3
   },
   "file_extension": ".py",
   "mimetype": "text/x-python",
   "name": "python",
   "nbconvert_exporter": "python",
   "pygments_lexer": "ipython3",
   "version": "3.7.4"
  }
 },
 "nbformat": 4,
 "nbformat_minor": 2
}
