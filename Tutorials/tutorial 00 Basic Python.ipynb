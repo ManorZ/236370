{
 "cells": [
  {
   "cell_type": "markdown",
   "metadata": {},
   "source": [
    "# <center><div style=\"direction:rtl\">236370 תכנות מקבילי מבוזר</div></center>\n",
    "## <center><div style=\"direction:rtl\">תרגול 0 - מבוא לפייתון</div></center>\n",
    "\n",
    "\n",
    "\n"
   ]
  },
  {
   "cell_type": "markdown",
   "metadata": {},
   "source": [
    "### <div style=\"direction:rtl\"> Python על קצה המזלג </div>\n",
    "<div style=\"direction:rtl\">\n",
    "כחלק מדרישות הקורס, אתם תדרשו לעשות 3 תרגילי בית רטובים, הכתובים בשפת פייתון. לשפה זו כמה מאפיינים בולטים המבדילים אותה משפות אחרות:\n",
    "<br>\n",
    "<ul>\n",
    "<li>Compact code - פיתוח קצר ומימוש מהיר</li>\n",
    "<li>High Level - כוללת מבני נתונים אבסטרקטיים, למשל השימוש במילונים ורשימות כטיפוסים פרימיטיביים.</li>\n",
    "<li>Interpreted - הקוד מפוענח בזמן הריצה והביצוע, ואינו עובר תהליך קמפול.</li>\n",
    "<li>Dynamic Typing - הטיפוס של משתנה נקבע בזמן ריצה. משתנה יחיד יכול לשנות מספר טיפוסים לאורך התוכנית.</li>\n",
    "<li>Strongly Typed - ערכים לא משנים טיפוס ללא דרישה מפורשת</li>\n",
    "<li>Object Oriented - אפשרות למחלקות, אובייקטים, ירושה וכיו\"ב</li>\n",
    "<li>Virtual Machine, Platform compatible - Win 32/64, Unix, Linux, Mac</li>\n",
    "</ul>\n",
    "<br>\n",
    "<b> שימו לב! בקורס נשתמש בפית'ון גירסה 3.6 </b>\n",
    "</div>"
   ]
  },
  {
   "cell_type": "markdown",
   "metadata": {},
   "source": [
    "### Built-in Types and Variables\n",
    "<br>\n",
    "<div style=\"direction:rtl\">\n",
    "בפייתון כאשר אנחנו מגדירים משתנה, אנחנו לא צריכים להכריז עליו או על הטיפוס שלו. במקום, הטיפוס נקבע לפי הערך שמוכנס לתוך המשתנה. נשתמש בפונקציה המובנית type כדי להבין טוב יותר איך זה עובד:\n",
    "</div>"
   ]
  },
  {
   "cell_type": "code",
   "execution_count": null,
   "metadata": {},
   "outputs": [],
   "source": [
    "# Integer\n",
    "x = 5\n",
    "print(x)\n",
    "print(type(x))\n"
   ]
  },
  {
   "cell_type": "code",
   "execution_count": null,
   "metadata": {},
   "outputs": [],
   "source": [
    "# Float\n",
    "y = 5.0\n",
    "print(y)\n",
    "print(type(y))\n",
    "print(x == y)\n",
    "print(type(x) == type(y))"
   ]
  },
  {
   "cell_type": "code",
   "execution_count": null,
   "metadata": {},
   "outputs": [],
   "source": [
    "# Lets try sequence types, starting with string\n",
    "x = \"ab\"\n",
    "y = 'ab' # Another way of defining a string\n",
    "print(type(y))\n",
    "print(x == y)"
   ]
  },
  {
   "cell_type": "markdown",
   "metadata": {},
   "source": [
    "### Data Structures\n",
    "<br>\n",
    "<div style=\"direction:rtl\">\n",
    "בפייתון, בדומה לשפות סקריפטים אחרות, יש תמיכה מובנת בשני מבני נתונים בסיסיים: מילון ורשימה, ובמבנה נתונים מסוג tupple\n",
    "</div>"
   ]
  },
  {
   "cell_type": "code",
   "execution_count": null,
   "metadata": {},
   "outputs": [],
   "source": [
    "# dictionary\n",
    "d = {\"key1\": \"value1\", \"key2\": \"value2\"}\n",
    "print(d[\"key1\"])\n",
    "\n",
    "# list\n",
    "l = [0,1,2]\n",
    "print(l[1])\n",
    "\n",
    "# tupple\n",
    "t = (0,1)"
   ]
  },
  {
   "cell_type": "markdown",
   "metadata": {},
   "source": [
    "<div style=\"direction:rtl\">\n",
    "ניתן לגשת ברשימה למקום שרירותי, אך רק אם קיים במקום זה איבר כלשהו\n",
    "</div>"
   ]
  },
  {
   "cell_type": "code",
   "execution_count": null,
   "metadata": {
    "scrolled": true
   },
   "outputs": [],
   "source": [
    "\n",
    "l = [0,1]\n",
    "l[1] = 2\n",
    "l[1]"
   ]
  },
  {
   "cell_type": "code",
   "execution_count": null,
   "metadata": {
    "scrolled": true
   },
   "outputs": [],
   "source": [
    "\n",
    "l[2] #illegan, will throw an exception"
   ]
  },
  {
   "cell_type": "code",
   "execution_count": null,
   "metadata": {},
   "outputs": [],
   "source": [
    "\n",
    "l = [] # Define an empty list\n",
    "l.append(0) # Insert obejects into the list\n",
    "l.append(1)\n",
    "print(l)\n",
    "\n",
    "print(l + [2, \"d\"]) # creates a new list \n",
    "print(l)\n",
    "\n",
    "l.extend([2, \"d\"]) # modifies the list\n",
    "print(l)\n",
    "\n",
    "del l[0]\n",
    "print(l)\n",
    "\n",
    "[0, 1, 2] * 2 # concatenates the list to itself 2 times"
   ]
  },
  {
   "cell_type": "markdown",
   "metadata": {},
   "source": [
    "<div style=\"direction:rtl\">\n",
    "מילון (dictionary) הוא מבנה נתונים הדומה למערך אסוציאטיבי. מדובר בסדרת זוגות key-value, כאשר כל מפתח מייצג אובייקט יחיד.\n",
    "</div>\n",
    "Keys - immutable, Values - mutable"
   ]
  },
  {
   "cell_type": "code",
   "execution_count": null,
   "metadata": {},
   "outputs": [],
   "source": [
    "h = {\"key1\": \"value1\", \"key2\": \"value2\"}\n",
    "print(h.keys())\n",
    "print(h.values())"
   ]
  },
  {
   "cell_type": "markdown",
   "metadata": {},
   "source": [
    "<div style=\"direction:rtl\">\n",
    "tupple מתנהג כמו רשימה בלתי ניתנת לשינוי, מה שמאפשר להשתמש בו בתור מפתח במילון\n",
    "</div>"
   ]
  },
  {
   "cell_type": "code",
   "execution_count": null,
   "metadata": {},
   "outputs": [],
   "source": [
    "h = {(0,1): \"value\"}\n",
    "print(h[(0,1)])\n"
   ]
  },
  {
   "cell_type": "code",
   "execution_count": null,
   "metadata": {},
   "outputs": [],
   "source": [
    "t[0] = 3 # Should throw error, tuple is immutable"
   ]
  },
  {
   "cell_type": "markdown",
   "metadata": {},
   "source": [
    "<div style=\"direction:rtl\">\n",
    "חיפש האם איבר נמצא במבנה נתונים מתבצע בקלות על יד המילה השמורה in\n",
    "</div>"
   ]
  },
  {
   "cell_type": "code",
   "execution_count": null,
   "metadata": {},
   "outputs": [],
   "source": [
    "print(\"a\" in [\"a\", \"b\"])\n",
    "print(0 in (\"a\", \"b\"))\n"
   ]
  },
  {
   "cell_type": "markdown",
   "metadata": {},
   "source": [
    "### Basic Operators"
   ]
  },
  {
   "cell_type": "code",
   "execution_count": null,
   "metadata": {},
   "outputs": [],
   "source": [
    "# Devision\n",
    "print(5/2) # normal\n",
    "print(4/2) # always returns float\n",
    "print(5//2) # floor devision, returns int if both expressions are int\n",
    "print(5//2.0) # floor devision, returns float if at least one of them is float\n",
    "print(5 % 2) # modulu"
   ]
  },
  {
   "cell_type": "code",
   "execution_count": null,
   "metadata": {},
   "outputs": [],
   "source": [
    "# Comparisons and Logical operators\n",
    "print(2>1 and 3>4)\n",
    "print(2>1 or 3>4)\n",
    "print(not 2>1)"
   ]
  },
  {
   "cell_type": "code",
   "execution_count": null,
   "metadata": {},
   "outputs": [],
   "source": [
    "# Power\n",
    "x = 2**3\n",
    "print(x)"
   ]
  },
  {
   "cell_type": "code",
   "execution_count": null,
   "metadata": {},
   "outputs": [],
   "source": [
    "# Assignment\n",
    "x += 3 # Works with **=,^=,etc.\n",
    "x"
   ]
  },
  {
   "cell_type": "code",
   "execution_count": null,
   "metadata": {},
   "outputs": [],
   "source": [
    "# x++ is illeagal\n",
    "x++"
   ]
  },
  {
   "cell_type": "code",
   "execution_count": null,
   "metadata": {},
   "outputs": [],
   "source": [
    "# string concatenation is done using the + operator\n",
    "hello = \"hello\"\n",
    "world = \" world!\"\n",
    "print(hello + world)"
   ]
  },
  {
   "cell_type": "markdown",
   "metadata": {},
   "source": [
    "### Python Interpreter as a Calculator\n",
    "<br>\n",
    "<div style=\"direction:rtl\">ניתן להשתמש בinterpreter כמחשבון פשוט, ע\"י הכנסת כל ביטוי שתרצו להאריך. נראה כמה זה קל!</div>"
   ]
  },
  {
   "cell_type": "code",
   "execution_count": null,
   "metadata": {},
   "outputs": [],
   "source": [
    "4.5 // 2, 4.5 % 2"
   ]
  },
  {
   "cell_type": "code",
   "execution_count": null,
   "metadata": {},
   "outputs": [],
   "source": [
    "True and False"
   ]
  },
  {
   "cell_type": "markdown",
   "metadata": {},
   "source": [
    "<div style=\"direction:rtl\">בפייתון, ניתן להמיר כל אובייקט לערך בוליאני של אמת או שקר. האופרטורים \"or\" ו-\"and\" תמיד יחזירו אחד מהאופרנדים שלהם.\n",
    "<br>\n",
    "רוב הערכים נחשבים לTrue, דוגמאות לערכים שהם False:</div>\n",
    "<ul>\n",
    "<li> None </li>\n",
    "<li> False </li>\n",
    "<li> zero of any numeric type. For example: 0, 0L, 0.0. </li>\n",
    "<li> Any empty sequence. For example: \"\", (), [], {}.</li>\n",
    "</ul>"
   ]
  },
  {
   "cell_type": "code",
   "execution_count": null,
   "metadata": {},
   "outputs": [],
   "source": [
    "2 or 5>1"
   ]
  },
  {
   "cell_type": "code",
   "execution_count": null,
   "metadata": {},
   "outputs": [],
   "source": [
    "5>1 or 2"
   ]
  },
  {
   "cell_type": "markdown",
   "metadata": {},
   "source": [
    "### if, elif, else"
   ]
  },
  {
   "cell_type": "code",
   "execution_count": null,
   "metadata": {},
   "outputs": [],
   "source": [
    "x = input()  # always treated as 'str'\n",
    "x"
   ]
  },
  {
   "cell_type": "code",
   "execution_count": null,
   "metadata": {},
   "outputs": [],
   "source": [
    "x = 11\n",
    "if x<0:\n",
    "    print(\"negative\")\n",
    "elif 0 <= x <= 9:\n",
    "    print(\"small\")\n",
    "else:\n",
    "    print(\"large\")\n",
    "    \n",
    "# c syntax \n",
    "# x < 0 ? \"negative\" : \"non negative\"\n",
    "# is illegal, instead use this:\n",
    "print(\"negative\" if x<0 else \"non negative\")"
   ]
  },
  {
   "cell_type": "markdown",
   "metadata": {},
   "source": [
    "<div style=\"direction:rtl\">\n",
    "כמה הערות:\n",
    "<ul>\n",
    "<li> הפונקציה input משמשת לבקשת קלט מהמשתמש, ומחזירה string</li>\n",
    "<li> ניצן להמיר בין טיפוסים בעזרת פונ' בשם הטיפוס, למשל int</li>\n",
    "<li> שימו לב שהתו ':' הוא חלק מהסינטקס של הפקודה </li>\n",
    "<li> שימו לב שמידת ההזחה קובעת את ה-block של הקוד, ואין שימוש בסוגריים מסולסלות </li>\n",
    "</ul>\n",
    "</div>"
   ]
  },
  {
   "cell_type": "markdown",
   "metadata": {},
   "source": [
    "### While Loop\n",
    "<div style=\"direction:rtl\">\n",
    "<ul>\n",
    "<li> התו ':' הוא שוב חלק מהסינטקס של הפקודה </li>\n",
    "<li> ניתן להשתמש בפקודות continue וגם break כמו בC </li>\n",
    "<li> שימו לב לשימוש ב-'while-else' </li>\n",
    "</ul>\n",
    "</div>"
   ]
  },
  {
   "cell_type": "code",
   "execution_count": null,
   "metadata": {},
   "outputs": [],
   "source": [
    "x = 1234\n",
    "sum = 0\n",
    "\n",
    "while x>0:\n",
    "    sum += x % 10\n",
    "    x //= 10\n",
    "    \n",
    "print(sum)"
   ]
  },
  {
   "cell_type": "code",
   "execution_count": null,
   "metadata": {},
   "outputs": [],
   "source": [
    "# while-else example\n",
    "x = 3\n",
    "\n",
    "while x > 0:\n",
    "    print(x)\n",
    "    x -= 1\n",
    "else:\n",
    "    print(\"DONE\")\n",
    "    "
   ]
  },
  {
   "cell_type": "code",
   "execution_count": null,
   "metadata": {},
   "outputs": [],
   "source": [
    "# Another while-else example\n",
    "x = 3\n",
    "\n",
    "while True:\n",
    "    print(x)\n",
    "    x -= 1\n",
    "    if x <= 0:\n",
    "        break\n",
    "else: # Coupled with the while and not the if due to indentation\n",
    "    print(\"You won't see this!\")\n",
    "    "
   ]
  },
  {
   "cell_type": "markdown",
   "metadata": {},
   "source": [
    "#### range()\n",
    "<div style=\"direction:rtl\">\n",
    "<ul>\n",
    "<li> מייצר סדרות מספרים רצופים שהינם immutable</li>\n",
    "<li> בדיפולט range הוא עצלן, כך שהוא מחשב את הערך הבא ברשימה רק כאשר התוכנית משתמשת בו, ובכך חוסך זיכרון. </li>\n",
    "<li> הפיכת הפלט לlist מכריח את range לייצר את כל הרשימה. </li>\n",
    "<li>הסינטקס של range הוא מהצורה range(from(includes), to (excludes), step size)</li> \n",
    "</ul>\n",
    "</div>"
   ]
  },
  {
   "cell_type": "code",
   "execution_count": null,
   "metadata": {},
   "outputs": [],
   "source": [
    "range(5)\n",
    "list(range(5))"
   ]
  },
  {
   "cell_type": "code",
   "execution_count": null,
   "metadata": {},
   "outputs": [],
   "source": [
    "range(5)"
   ]
  },
  {
   "cell_type": "code",
   "execution_count": null,
   "metadata": {},
   "outputs": [],
   "source": [
    "list(range(5,8))"
   ]
  },
  {
   "cell_type": "code",
   "execution_count": null,
   "metadata": {},
   "outputs": [],
   "source": [
    "list(range(8,2,-2))"
   ]
  },
  {
   "cell_type": "markdown",
   "metadata": {},
   "source": [
    "<div style=\"direction:rtl\">\n",
    "פייתון מאפשרת לנו גם לגשת רק לחלק מסויים מהרשימה ע\"י פעולה שנקראת slicing. ניתן לגשת לחלק מהרשימה ע\"י שימוש בסוגריים מרובעות לגישה ע\"י [התחלה: סוף] או [התחלה: סוף: קפיצה]\n",
    "</div>"
   ]
  },
  {
   "cell_type": "code",
   "execution_count": null,
   "metadata": {},
   "outputs": [],
   "source": [
    "list2 = list(range(5)) + list(range(5,8))\n",
    "print(list2)"
   ]
  },
  {
   "cell_type": "code",
   "execution_count": null,
   "metadata": {},
   "outputs": [],
   "source": [
    "list2[3:5]"
   ]
  },
  {
   "cell_type": "code",
   "execution_count": null,
   "metadata": {},
   "outputs": [],
   "source": [
    "list2[2:]"
   ]
  },
  {
   "cell_type": "code",
   "execution_count": null,
   "metadata": {},
   "outputs": [],
   "source": [
    "list2[2:7:2]"
   ]
  },
  {
   "cell_type": "code",
   "execution_count": null,
   "metadata": {},
   "outputs": [],
   "source": [
    "list2[::-1] # Reverse the list!"
   ]
  },
  {
   "cell_type": "code",
   "execution_count": null,
   "metadata": {},
   "outputs": [],
   "source": [
    "list2.reverse() # modify the original list\n",
    "list2"
   ]
  },
  {
   "cell_type": "code",
   "execution_count": null,
   "metadata": {},
   "outputs": [],
   "source": [
    "list2[2:4] = ['A', 'B', 4.2, True]\n",
    "# Different types of objects can be in the same list\n",
    "# Replace part of list with another list of different size\n",
    "\n",
    "for item in list2:\n",
    "    print(item)"
   ]
  },
  {
   "cell_type": "markdown",
   "metadata": {},
   "source": [
    "### For Loops\n",
    "\n",
    "for *variable* in *sequence-type*:"
   ]
  },
  {
   "cell_type": "code",
   "execution_count": null,
   "metadata": {},
   "outputs": [],
   "source": [
    "for x in range(10):\n",
    "    print(\"{} SQ {}\".format(x,x**2))\n",
    "else:\n",
    "    print(\"%20s !\" % \"I'm done\")\n",
    "    "
   ]
  },
  {
   "cell_type": "markdown",
   "metadata": {},
   "source": [
    "<div style=\"direction:rtl\">\n",
    "<ul>\n",
    "<li> ניתן להדפיס עם %d, %s באופן דומה לC. זו הדרך העדיפה להדפיס ערכי משתנים.</li>\n",
    "<li> שימו לב שגם כאן ניתן להשתמש בelse</li>\n",
    "</ul>\n",
    "</div>"
   ]
  },
  {
   "cell_type": "markdown",
   "metadata": {},
   "source": [
    "### Functions\n",
    "\n",
    "def *func-name*(*params...*):\n",
    "\n",
    "    ...\n",
    "    \n",
    "    return *ret-val*"
   ]
  },
  {
   "cell_type": "code",
   "execution_count": null,
   "metadata": {},
   "outputs": [],
   "source": [
    "def factorial(n):\n",
    "    if n <= 1:\n",
    "        return 1\n",
    "    return n * factorial(n-1)\n"
   ]
  },
  {
   "cell_type": "markdown",
   "metadata": {},
   "source": [
    "<div style=\"direction:rtl\">\n",
    "לאחר הגדרת פונקציה, פייתון מייצר אובייקט המייצג אותה, ושם הפונקציה נהיה המזהה שלה (כמו משתנה).\n",
    "<br>\n",
    "ניתן לשמור את האובייקט הזה במשתנה אחר, ויש לו מאפיינים ומתודות כמו כל אובייקט.\n",
    "</div>"
   ]
  },
  {
   "cell_type": "code",
   "execution_count": null,
   "metadata": {},
   "outputs": [],
   "source": [
    "f = factorial\n",
    "type(f)"
   ]
  },
  {
   "cell_type": "code",
   "execution_count": null,
   "metadata": {},
   "outputs": [],
   "source": [
    "\"6!\", f(6)"
   ]
  },
  {
   "cell_type": "markdown",
   "metadata": {},
   "source": [
    "<div style=\"direction:rtl\">פונקציה יכולה להחזיר ערכים מסוגים שונים בזמנים שונים, למרות שלא מומלץ לעשות זאת. בנוסף, היא יכולה להחזיר מספר ערכים בבת אחת, ע\"י הפרדתם בפסיק.</div>"
   ]
  },
  {
   "cell_type": "code",
   "execution_count": null,
   "metadata": {},
   "outputs": [],
   "source": [
    "def g():\n",
    "    return 1,2\n",
    "a,b = g()\n",
    "print(a)\n",
    "print(g())\n"
   ]
  },
  {
   "cell_type": "markdown",
   "metadata": {},
   "source": [
    "### List comprehention\n",
    "\n",
    "<div style=\"direction:rtl\">\n",
    "קונספט מעניין בפייתון הוא אתחול של רשימה ומילון בפקודה יחידה, באופן זה הקוד יותר קריא (אחרי שמתרגלים אליו) וזמן הריצה מהיר יותר\n",
    "</div>"
   ]
  },
  {
   "cell_type": "code",
   "execution_count": null,
   "metadata": {},
   "outputs": [],
   "source": [
    "keys = range(1,5)\n",
    "values = [f(i) for i in keys] # List comprehention\n",
    "keys, values"
   ]
  },
  {
   "cell_type": "code",
   "execution_count": null,
   "metadata": {},
   "outputs": [],
   "source": [
    "import time\n",
    "\n",
    "begin_loop = time.time()\n",
    "l =[]\n",
    "for i in range(100000):\n",
    "    l.append(i**3)\n",
    "end_loop = time.time()\n",
    "\n",
    "begin_comprehention = time.time()\n",
    "l = [i**3 for i in range(100000)]\n",
    "end_comprehention = time.time() \n",
    "\n",
    "print(\"loop: {}, list comp: {}\".format(end_loop - begin_loop, end_comprehention - begin_comprehention))\n",
    "print((end_loop - begin_loop) / (end_comprehention - begin_comprehention))\n"
   ]
  },
  {
   "cell_type": "code",
   "execution_count": null,
   "metadata": {},
   "outputs": [],
   "source": [
    "list(zip(keys, values))\n"
   ]
  },
  {
   "cell_type": "code",
   "execution_count": null,
   "metadata": {},
   "outputs": [],
   "source": [
    "NumToLet = dict(list(zip(keys, values)))\n",
    "NumToLet"
   ]
  },
  {
   "cell_type": "code",
   "execution_count": null,
   "metadata": {},
   "outputs": [],
   "source": [
    "NumToLet[2]"
   ]
  },
  {
   "cell_type": "code",
   "execution_count": null,
   "metadata": {},
   "outputs": [],
   "source": [
    "NumToLet[5] = \"e\" # Dictionary is mutable, add another key-value pair\n",
    "NumToLet"
   ]
  },
  {
   "cell_type": "markdown",
   "metadata": {},
   "source": [
    "אתחול של מילון בשורה אחת"
   ]
  },
  {
   "cell_type": "code",
   "execution_count": null,
   "metadata": {},
   "outputs": [],
   "source": [
    "NumToLet2 = {i: i**2 for i in range(5)}\n",
    "NumToLet2"
   ]
  },
  {
   "cell_type": "markdown",
   "metadata": {},
   "source": [
    "### Classes"
   ]
  },
  {
   "cell_type": "code",
   "execution_count": null,
   "metadata": {},
   "outputs": [],
   "source": [
    "class Tree(object):\n",
    "    def __init__(self, data, children = ()):\n",
    "        self.data = data\n",
    "        self.children = children\n",
    "        \n",
    "    def prettyprint(self, indent=\"\"):\n",
    "        print(indent + self.data)\n",
    "        for child in self.children:\n",
    "            child.prettyprint(indent + \"-\")\n",
    "            \n",
    "t111 = Tree(\"left_left\")\n",
    "t112 = Tree(\"left_right\")\n",
    "t11 = Tree(\"left\", (t111, t112))\n",
    "t12 = Tree(\"right\")\n",
    "t1 = Tree(\"root\", (t11, t12))\n",
    "t1.prettyprint()"
   ]
  },
  {
   "cell_type": "markdown",
   "metadata": {},
   "source": [
    "<div style=\"direction:rtl\">\n",
    "<ul>\n",
    "<li> כדאי להוריש מחלקות חדשות מobject</li>\n",
    "<li> self הוא שם קונוונציה ל\"this\"</li>\n",
    "<li> ניתן להגדיר ערכים דיפולטיים לארגומטים של פונציה בעזרת שימוש ב'=' </li>\n",
    "<li> משתנים פנימיים במחלקה מוגדרים ברגע שמוצב לתוכם ערך. לפני כן המחלקה אינה מודעת לקיומם, ואין צורך \"להכריז\" עליהם במקום נוסף. </li>\n",
    "</ul>\n",
    "</div>"
   ]
  },
  {
   "cell_type": "markdown",
   "metadata": {},
   "source": [
    "### Exceptions"
   ]
  },
  {
   "cell_type": "markdown",
   "metadata": {},
   "source": [
    "<div style=\"direction:rtl\">\n",
    "<ul>\n",
    "<li> מאפשר שליטה וטיפול בשגיאות</li>\n",
    "<li> זריקת חריגה ע\"י הפונ' raise</li>\n",
    "<li> תפיסה וטיפול ע\"י try, except</li>\n",
    "</ul>\n",
    "</div>"
   ]
  },
  {
   "cell_type": "code",
   "execution_count": null,
   "metadata": {},
   "outputs": [],
   "source": [
    "while True:\n",
    "    try:\n",
    "        x = int(input(\"Please enter a number: \"))\n",
    "        break\n",
    "    except ValueError:\n",
    "        print (\"Oops!  That was no valid number.  Try again...\")"
   ]
  },
  {
   "cell_type": "markdown",
   "metadata": {},
   "source": [
    "### Tips\n",
    "\n",
    "<div style=\"direction:rtl\">\n",
    "<ul>\n",
    "<li> מומלץ לעבוד עם IDE אנו ממליצים על Pycharm </li>\n",
    "<li> לבדיקות קצרות - השתמשו בinterpreter </li>\n",
    "<li> השתמשו בlist/dict comprehension לצמצום הקוד שלכם </li>\n",
    "<li> נצלו את מבני הנתונים של פייתון, במיוחד dictionaries </li>\n",
    "<li> היעזרו בpython manual המגיע עם ההתקנה של פייתון </li>\n",
    "</ul>\n",
    "</div>\n",
    "\n",
    "### Practice - Python hands on\n",
    "<div style=\"direction:rtl\">\n",
    "אמנם טעמנו קצת מהשפה, אך מומלץ מאוד לקרוא את <a href=\"https://docs.python.org/3.5/tutorial\">המדריך הרשמי של פייתון </a>.\n",
    "<br>\n",
    "נושאים חשובים נוספים:\n",
    "</div>\n",
    "- Exceptions, Modules & Packages, I\\O with Files, variable scope, standard libs, ...\n",
    "\n",
    "<div style=\"direction:rtl\">\n",
    "\n",
    "<br>\n",
    "מומלץ בחום לנסות ולהתמודד, הניסיון עשוי לעזור בתרגילי הבית!\n",
    "</div>\n",
    "\n",
    "## <center> בהצלחה!! </center>\n",
    "\n"
   ]
  }
 ],
 "metadata": {
  "anaconda-cloud": {},
  "kernelspec": {
   "display_name": "Python 3",
   "language": "python",
   "name": "python3"
  },
  "language_info": {
   "codemirror_mode": {
    "name": "ipython",
    "version": 3
   },
   "file_extension": ".py",
   "mimetype": "text/x-python",
   "name": "python",
   "nbconvert_exporter": "python",
   "pygments_lexer": "ipython3",
   "version": "3.7.4"
  }
 },
 "nbformat": 4,
 "nbformat_minor": 2
}
